{
 "cells": [
  {
   "cell_type": "code",
   "execution_count": 1,
   "metadata": {},
   "outputs": [],
   "source": [
    "from bs4 import BeautifulSoup\n",
    "from urllib.request import Request,urlopen\n",
    "from nltk.tokenize import sent_tokenize\n",
    "import numpy as np\n",
    "import pandas as pd\n",
    "from nltk.corpus import stopwords\n",
    "from sklearn.metrics.pairwise import cosine_similarity\n",
    "import networkx as nx"
   ]
  },
  {
   "cell_type": "code",
   "execution_count": 2,
   "metadata": {},
   "outputs": [],
   "source": [
    "def get_only_text(url):\n",
    "    \"\"\" \n",
    "    return the title and the text of the article\n",
    "    at the specified url\n",
    "    \"\"\"\n",
    "    \n",
    "    hdr = {'User-Agent': 'Mozilla/5.0'}\n",
    "    req = Request(url,headers=hdr)\n",
    "    page = urlopen(req)\n",
    "    soup = BeautifulSoup(page, \"lxml\")\n",
    "    text = ' '.join(map(lambda p: p.text, soup.find_all('p')))\n",
    "  \n",
    "    print (\"=====================\")\n",
    "    print (text)\n",
    "    print (\"=====================\")\n",
    " \n",
    "    return soup.title.text, text    \n",
    " \n",
    "     \n"
   ]
  },
  {
   "cell_type": "code",
   "execution_count": 3,
   "metadata": {},
   "outputs": [
    {
     "name": "stdout",
     "output_type": "stream",
     "text": [
      "=====================\n",
      "Three Indian companies have got licences from NASA to manufacture its indigenously developed ventilators for critical COVID-19 patients. The three Indian companies are Alpha Design Technologies Pvt Ltd, Bharat Forge Ltd and Medha Servo Drives Pvt Ltd, the space organisation said in a statement on Friday. Also read: Coronavirus | U.S. to donate ventilators to India: Donald Trump  Apart from the Indian firms, 18 other companies, including eight American and three Brazilian, have been selected to manufacture the critical breathing devices.  The National Aeronautics and Space Administration (NASA) developed the ventilator specifically for coronavirus patients at its Jet Propulsion Laboratory (JLP) in Southern California.  The JPL engineers designed the special ventilator— called VITAL — in little over a month and received ‘Emergency Use Authorization’ from the Food and Drug Administration on April 30.  The VITAL (Ventilator Intervention Technology Accessible Locally) equipment uses one-seventh the parts of a traditional ventilator, relying on parts already available in supply chains, the space organisation said.  This high-pressure ventilator offers a simple, affordable option for treating critical patients while freeing up traditional ventilators for those with the most severe COVID-19 symptoms. Its flexible design means it also can be modified for use in field hospitals, the NASA statement read. “The VITAL team is very excited to see their technology licenced,” said Leon Alkalai, manager of the JPL Office of Strategic Partnerships. “Our hope is to have this technology reach across the world and provide an additional source of solutions to deal with the on-going COVID-19 crisis,” he said.  NASA said VITAL was developed with input from doctors and medical device manufacturers.  A prototype of the JPL device was successfully tested by the Human Simulation Lab in the Department of Anesthesiology, Perioperative and Pain Medicine at Mount Sinai on April 23.  A modified design, which uses compressed air and can be deployed by a greater range of hospitals, was recently tested at the UCLA Simulation Center in Los Angeles.  A high-fidelity lung simulator tested almost 20 different ventilator settings, representing a number of scenarios that could be seen in critically ill patients in an intensive care unit, it said. “VITAL performed well in simulation testing with both precise and reproducible results,” said Dr Tisha Wang, clinical chief of the UCLA Division of Pulmonary and Critical Care Medicine. “In addition, the setup and operation of the ventilator was quick and user-friendly. The UCLA team commends JPL for actively contributing to the COVID-19 response and successfully addressing one of the key medical needs in the sickest group of patients,” a media statement said. You have reached your limit for free articles this month.  Already have an account ? Sign in\n",
      " Start your 14 days trial now. Sign Up Find mobile-friendly version of articles from the day's newspaper in one easy-to-read list. Enjoy reading as many articles as you wish without any limitations. A select list of articles that match your interests and tastes. Move smoothly between articles as our pages load instantly. A one-stop-shop for seeing the latest updates, and managing your preferences. We brief you on the latest and most important developments, three times a day. \n",
      "*Our Digital Subscription plans do not currently include the e-paper ,crossword, iPhone, iPad mobile applications and print. Our plans enhance your reading experience.\n",
      " Dear reader, We have been keeping you up-to-date with information on the developments in India and the world that have a bearing on our health and wellbeing, our lives and livelihoods, during these difficult times. To enable wide dissemination of news that is in public interest, we have increased the number of articles that can be read free, and extended free trial periods. However, we have a request for those who can afford to subscribe: please do. As we fight disinformation and misinformation, and keep apace with the happenings, we need to commit greater resources to news gathering operations. We promise to deliver quality journalism that stays away from vested interest and political propaganda. Please enter a valid email address. \n",
      "Printable version | May 30, 2020 3:05:33 PM | https://www.thehindu.com/news/national/three-indian-companies-get-licence-to-manufacture-nasas-ventilators-for-covid-19-patients/article31708809.ece\n",
      " \n",
      "© THG PUBLISHING PVT LTD.\n",
      " \n",
      "International passenger flights continue to remain suspended in the country.  \n",
      "Chinese Foreign Ministry spokesman Geng Shuang told a media briefing here that India and China are closely coordinating and cooperating with each other  \n",
      "Subscribe to The Hindu now and get unlimited access.\n",
      " Already have an account? Sign In  \n",
      "Start your 14 days trial now\n",
      "Sign Up To continue enjoying The Hindu, You can turn off your ad blocker or Subscribe to The Hindu.  Sign up for a 30 day free trial.\n",
      "=====================\n"
     ]
    }
   ],
   "source": [
    "url=\"https://www.thehindu.com/news/national/three-indian-companies-get-licence-to-manufacture-nasas-ventilators-for-covid-19-patients/article31708809.ece\"\n",
    "text = get_only_text(url)"
   ]
  },
  {
   "cell_type": "code",
   "execution_count": 4,
   "metadata": {},
   "outputs": [
    {
     "name": "stderr",
     "output_type": "stream",
     "text": [
      "[nltk_data] Downloading package punkt to\n",
      "[nltk_data]     C:\\Users\\Arya\\AppData\\Roaming\\nltk_data...\n",
      "[nltk_data]   Package punkt is already up-to-date!\n"
     ]
    },
    {
     "data": {
      "text/plain": [
       "True"
      ]
     },
     "execution_count": 4,
     "metadata": {},
     "output_type": "execute_result"
    }
   ],
   "source": [
    "import nltk\n",
    "nltk.download('punkt')\n",
    "  \n",
    " "
   ]
  },
  {
   "cell_type": "code",
   "execution_count": 5,
   "metadata": {},
   "outputs": [
    {
     "data": {
      "text/plain": [
       "['“Our hope is to have this technology reach across the world and provide an additional source of solutions to deal with the on-going COVID-19 crisis,” he said.',\n",
       " 'NASA said VITAL was developed with input from doctors and medical device manufacturers.',\n",
       " 'A prototype of the JPL device was successfully tested by the Human Simulation Lab in the Department of Anesthesiology, Perioperative and Pain Medicine at Mount Sinai on April 23.',\n",
       " 'A modified design, which uses compressed air and can be deployed by a greater range of hospitals, was recently tested at the UCLA Simulation Center in Los Angeles.',\n",
       " 'A high-fidelity lung simulator tested almost 20 different ventilator settings, representing a number of scenarios that could be seen in critically ill patients in an intensive care unit, it said.',\n",
       " '“VITAL performed well in simulation testing with both precise and reproducible results,” said Dr Tisha Wang, clinical chief of the UCLA Division of Pulmonary and Critical Care Medicine.',\n",
       " '“In addition, the setup and operation of the ventilator was quick and user-friendly.',\n",
       " 'The UCLA team commends JPL for actively contributing to the COVID-19 response and successfully addressing one of the key medical needs in the sickest group of patients,” a media statement said.',\n",
       " 'You have reached your limit for free articles this month.',\n",
       " 'Already have an account ?']"
      ]
     },
     "execution_count": 5,
     "metadata": {},
     "output_type": "execute_result"
    }
   ],
   "source": [
    "sentences = []\n",
    "for s in text:\n",
    "    sentences.append(sent_tokenize(s))\n",
    "\n",
    "sentences = [y for x in sentences for y in x]\n",
    "sentences[10:20]"
   ]
  },
  {
   "cell_type": "code",
   "execution_count": 6,
   "metadata": {},
   "outputs": [],
   "source": [
    "# Extract word vectors\n",
    "word_embeddings = {}\n",
    "f = open('glove.6B.100d.txt', encoding='utf-8')\n",
    "for line in f:\n",
    "    values = line.split()\n",
    "    word = values[0]\n",
    "    coefs = np.asarray(values[1:], dtype='float32')\n",
    "    word_embeddings[word] = coefs\n",
    "f.close()"
   ]
  },
  {
   "cell_type": "code",
   "execution_count": 7,
   "metadata": {},
   "outputs": [
    {
     "data": {
      "text/plain": [
       "400000"
      ]
     },
     "execution_count": 7,
     "metadata": {},
     "output_type": "execute_result"
    }
   ],
   "source": [
    "len(word_embeddings)"
   ]
  },
  {
   "cell_type": "code",
   "execution_count": 8,
   "metadata": {},
   "outputs": [
    {
     "name": "stderr",
     "output_type": "stream",
     "text": [
      "[nltk_data] Downloading package stopwords to\n",
      "[nltk_data]     C:\\Users\\Arya\\AppData\\Roaming\\nltk_data...\n",
      "[nltk_data]   Package stopwords is already up-to-date!\n"
     ]
    },
    {
     "data": {
      "text/plain": [
       "True"
      ]
     },
     "execution_count": 8,
     "metadata": {},
     "output_type": "execute_result"
    }
   ],
   "source": [
    " import nltk\n",
    "nltk.download('stopwords')"
   ]
  },
  {
   "cell_type": "code",
   "execution_count": 9,
   "metadata": {},
   "outputs": [],
   "source": [
    "# remove punctuations, numbers and special characters\n",
    "clean_sentences = pd.Series(sentences).str.replace(\"[^a-zA-Z]\", \" \")\n",
    "\n",
    "# change to lowercase\n",
    "clean_sentences = [s.lower() for s in clean_sentences]\n",
    "stop_words = stopwords.words('english')\n",
    "# function to remove stopwords\n",
    "def remove_stopwords(sen):\n",
    "    sen_new = \" \".join([i for i in sen if i not in stop_words])\n",
    "    return sen_new\n",
    "clean_sentences = [remove_stopwords(r.split()) for r in clean_sentences]"
   ]
  },
  {
   "cell_type": "code",
   "execution_count": 10,
   "metadata": {},
   "outputs": [],
   "source": [
    "sentence_vectors = []\n",
    "for i in clean_sentences:\n",
    "    if len(i) != 0:\n",
    "        v = sum([word_embeddings.get(w, np.zeros((100,))) for w in i.split()])/(len(i.split())+0.001)\n",
    "    else:\n",
    "        v = np.zeros((100,))\n",
    "    sentence_vectors.append(v)"
   ]
  },
  {
   "cell_type": "code",
   "execution_count": 11,
   "metadata": {},
   "outputs": [],
   "source": [
    "# Create an empty similarity matrix\n",
    "sim_mat = np.zeros([len(sentences), len(sentences)])"
   ]
  },
  {
   "cell_type": "code",
   "execution_count": 12,
   "metadata": {},
   "outputs": [],
   "source": [
    "for i in range(len(sentences)):\n",
    "    for j in range(len(sentences)):\n",
    "        if i != j:\n",
    "            sim_mat[i][j] = cosine_similarity(sentence_vectors[i].reshape(1,100), sentence_vectors[j].reshape(1,100))[0,0]\n"
   ]
  },
  {
   "cell_type": "code",
   "execution_count": 13,
   "metadata": {},
   "outputs": [
    {
     "name": "stdout",
     "output_type": "stream",
     "text": [
      "“Our hope is to have this technology reach across the world and provide an additional source of solutions to deal with the on-going COVID-19 crisis,” he said.\n",
      "Its flexible design means it also can be modified for use in field hospitals, the NASA statement read.\n",
      "Also read: Coronavirus | U.S. to donate ventilators to India: Donald Trump  Apart from the Indian firms, 18 other companies, including eight American and three Brazilian, have been selected to manufacture the critical breathing devices.\n",
      "The VITAL (Ventilator Intervention Technology Accessible Locally) equipment uses one-seventh the parts of a traditional ventilator, relying on parts already available in supply chains, the space organisation said.\n",
      "The JPL engineers designed the special ventilator— called VITAL — in little over a month and received ‘Emergency Use Authorization’ from the Food and Drug Administration on April 30.\n",
      "Sign Up Find mobile-friendly version of articles from the day's newspaper in one easy-to-read list.\n",
      "To enable wide dissemination of news that is in public interest, we have increased the number of articles that can be read free, and extended free trial periods.\n",
      "The UCLA team commends JPL for actively contributing to the COVID-19 response and successfully addressing one of the key medical needs in the sickest group of patients,” a media statement said.\n",
      "Printable version | May 30, 2020 3:05:33 PM | https://www.thehindu.com/news/national/three-indian-companies-get-licence-to-manufacture-nasas-ventilators-for-covid-19-patients/article31708809.ece\n",
      " \n",
      "© THG PUBLISHING PVT LTD.\n",
      " \n",
      "International passenger flights continue to remain suspended in the country.\n",
      "A high-fidelity lung simulator tested almost 20 different ventilator settings, representing a number of scenarios that could be seen in critically ill patients in an intensive care unit, it said.\n"
     ]
    }
   ],
   "source": [
    "nx_graph = nx.from_numpy_array(sim_mat)\n",
    "scores = nx.pagerank(nx_graph)\n",
    "ranked_sentences = sorted(((scores[i],s) for i,s in enumerate(sentences)), reverse=True)\n",
    "# Extract top 15 sentences as the summary representation\n",
    "for i in range(10):\n",
    "    print(ranked_sentences[i][1])"
   ]
  },
  {
   "cell_type": "code",
   "execution_count": 16,
   "metadata": {},
   "outputs": [],
   "source": [
    "import logging\n",
    "logging.basicConfig(format='%(asctime)s : %(levelname)s : %(message)s', level=logging.INFO)\n",
    "from gensim.summarization import summarize\n",
    "from gensim.summarization import keywords\n",
    "import urllib.request\n",
    "from urllib.request import urlopen\n",
    "from bs4 import BeautifulSoup\n",
    "import requests"
   ]
  },
  {
   "cell_type": "code",
   "execution_count": 15,
   "metadata": {},
   "outputs": [
    {
     "name": "stdout",
     "output_type": "stream",
     "text": [
      "Collecting gensim\n",
      "  Downloading gensim-3.8.3-cp37-cp37m-win_amd64.whl (24.2 MB)\n",
      "Requirement already satisfied, skipping upgrade: six>=1.5.0 in c:\\users\\arya\\anaconda3\\lib\\site-packages (from gensim) (1.14.0)\n",
      "Collecting Cython==0.29.14\n",
      "  Downloading Cython-0.29.14-cp37-cp37m-win_amd64.whl (1.7 MB)\n",
      "Requirement already satisfied, skipping upgrade: scipy>=0.18.1 in c:\\users\\arya\\anaconda3\\lib\\site-packages (from gensim) (1.4.1)\n",
      "Requirement already satisfied, skipping upgrade: numpy>=1.11.3 in c:\\users\\arya\\anaconda3\\lib\\site-packages (from gensim) (1.18.1)\n",
      "Collecting smart-open>=1.8.1\n",
      "  Downloading smart_open-2.0.0.tar.gz (103 kB)\n",
      "Requirement already satisfied, skipping upgrade: requests in c:\\users\\arya\\anaconda3\\lib\\site-packages (from smart-open>=1.8.1->gensim) (2.23.0)\n",
      "Requirement already satisfied, skipping upgrade: boto in c:\\users\\arya\\anaconda3\\lib\\site-packages (from smart-open>=1.8.1->gensim) (2.49.0)\n",
      "Collecting boto3\n",
      "  Downloading boto3-1.13.19-py2.py3-none-any.whl (128 kB)\n",
      "Requirement already satisfied, skipping upgrade: idna<3,>=2.5 in c:\\users\\arya\\anaconda3\\lib\\site-packages (from requests->smart-open>=1.8.1->gensim) (2.9)\n",
      "Requirement already satisfied, skipping upgrade: certifi>=2017.4.17 in c:\\users\\arya\\anaconda3\\lib\\site-packages (from requests->smart-open>=1.8.1->gensim) (2020.4.5.1)\n",
      "Requirement already satisfied, skipping upgrade: urllib3!=1.25.0,!=1.25.1,<1.26,>=1.21.1 in c:\\users\\arya\\anaconda3\\lib\\site-packages (from requests->smart-open>=1.8.1->gensim) (1.25.8)\n",
      "Requirement already satisfied, skipping upgrade: chardet<4,>=3.0.2 in c:\\users\\arya\\anaconda3\\lib\\site-packages (from requests->smart-open>=1.8.1->gensim) (3.0.4)\n",
      "Collecting jmespath<1.0.0,>=0.7.1\n",
      "  Downloading jmespath-0.10.0-py2.py3-none-any.whl (24 kB)\n",
      "Collecting botocore<1.17.0,>=1.16.19\n",
      "  Downloading botocore-1.16.19-py2.py3-none-any.whl (6.2 MB)\n",
      "Collecting s3transfer<0.4.0,>=0.3.0\n",
      "  Downloading s3transfer-0.3.3-py2.py3-none-any.whl (69 kB)\n",
      "Requirement already satisfied, skipping upgrade: python-dateutil<3.0.0,>=2.1 in c:\\users\\arya\\anaconda3\\lib\\site-packages (from botocore<1.17.0,>=1.16.19->boto3->smart-open>=1.8.1->gensim) (2.8.1)\n",
      "Collecting docutils<0.16,>=0.10\n",
      "  Downloading docutils-0.15.2-py3-none-any.whl (547 kB)\n",
      "Building wheels for collected packages: smart-open\n",
      "  Building wheel for smart-open (setup.py): started\n",
      "  Building wheel for smart-open (setup.py): finished with status 'done'\n",
      "  Created wheel for smart-open: filename=smart_open-2.0.0-py3-none-any.whl size=101346 sha256=f9a9e8fa52ff39edff1909dc0ce5a825da37404fa7476e5b2b7c09a1b6757324\n",
      "  Stored in directory: c:\\users\\arya\\appdata\\local\\pip\\cache\\wheels\\bb\\1c\\9c\\412ec03f6d5ac7d41f4b965bde3fc0d1bd201da5ba3e2636de\n",
      "Successfully built smart-open\n",
      "Installing collected packages: Cython, jmespath, docutils, botocore, s3transfer, boto3, smart-open, gensim\n",
      "  Attempting uninstall: Cython\n",
      "    Found existing installation: Cython 0.29.15\n",
      "    Uninstalling Cython-0.29.15:\n",
      "      Successfully uninstalled Cython-0.29.15\n",
      "  Attempting uninstall: docutils\n",
      "    Found existing installation: docutils 0.16\n",
      "    Uninstalling docutils-0.16:\n",
      "      Successfully uninstalled docutils-0.16\n",
      "Successfully installed Cython-0.29.14 boto3-1.13.19 botocore-1.16.19 docutils-0.15.2 gensim-3.8.3 jmespath-0.10.0 s3transfer-0.3.3 smart-open-2.0.0\n"
     ]
    }
   ],
   "source": [
    "!python -m pip install -U gensim"
   ]
  },
  {
   "cell_type": "code",
   "execution_count": 17,
   "metadata": {},
   "outputs": [
    {
     "name": "stdout",
     "output_type": "stream",
     "text": [
      "Summary:\n"
     ]
    },
    {
     "name": "stderr",
     "output_type": "stream",
     "text": [
      "2020-05-30 15:41:35,566 : INFO : adding document #0 to Dictionary(0 unique tokens: [])\n",
      "2020-05-30 15:41:35,600 : INFO : built Dictionary(1909 unique tokens: ['compani', 'covid', 'hindu', 'indian', 'licenc']...) from 4319 documents (total 13275 corpus positions)\n",
      "2020-05-30 15:41:35,620 : INFO : Building graph\n",
      "2020-05-30 15:41:35,623 : INFO : Filling graph\n",
      "2020-05-30 15:41:37,544 : INFO : PROGRESS: processing 1000/2050 doc (200 non zero elements)\n",
      "2020-05-30 15:41:39,366 : INFO : PROGRESS: processing 2000/2050 doc (227 non zero elements)\n",
      "2020-05-30 15:41:39,453 : INFO : Removing unreachable nodes of graph\n",
      "2020-05-30 15:41:39,459 : INFO : Pagerank graph\n",
      "2020-05-30 15:41:42,233 : INFO : Sorting pagerank scores\n"
     ]
    },
    {
     "name": "stdout",
     "output_type": "stream",
     "text": [
      "\"@id\": \"https://www.thehindu.com/news/national/three-indian-companies-get-licence-to-manufacture-nasas-ventilators-for-covid-19-patients/article31708809.ece\"\n",
      "function appURL(){\treturn \"https://www.thehindu.com/\";\n",
      "function getStorage(name){\tif(typeof(Storage) !== \"undefined\" && 'localStorage' in window && window.localStorage !== null) {\tif (localStorage.getItem(name)){\tcookieObj = JSON.parse(localStorage.getItem(name));\n",
      "var date = new Date();\tlocalStorage.setItem(name,JSON.stringify({\"v\":value, \"e\":date.setTime(date.getTime()+(days*24*60*60*1000))}))\n",
      "} function loadAsyncURL(url){ var s = document.createElement(\"script\"), el = document.getElementsByTagName(\"script\")[0];\n",
      "function loadSyncURL(url){ var s = document.createElement(\"script\"), el = document.getElementsByTagName(\"script\")[0];\n",
      "return new Promise(function(resolve, reject) {\n",
      "return new Promise(function(resolve, reject) {\n",
      "<script type=\"text/javascript\">var userconsent = 1 ;if(!isTrackingAllowed()){userconsent=0;} var _comscore = _comscore || []; _comscore.push({ c1: \"2\", c2: \"11398210\",cs_ucfr: userconsent}); (function() { var s = document.createElement(\"script\"), el = document.getElementsByTagName(\"script\")[0]; s.async = true; s.src = (document.location.protocol == \"https:\" ?\n",
      "clevertap.privacy.push({optOut: false}); //set the flag to true, if the user of the device opts out of sharing their data\n",
      "Printable version | May 30, 2020 3:05:33 PM | https://www.thehindu.com/news/national/three-indian-companies-get-licence-to-manufacture-nasas-ventilators-for-covid-19-patients/article31708809.ece\n",
      "pageUrl: 'https://www.thehindu.com/news/national/three-indian-companies-get-licence-to-manufacture-nasas-ventilators-for-covid-19-patients/article31708809.ece',\n",
      "var articleSize = document.getElementsByClassName(\"article\").length - 1;\n",
      "var articleSize = document.getElementsByClassName(\"article\").length - 1;\n",
      "var articleSize = document.getElementsByClassName(\"article\").length - 1;\n",
      "var articleSize = document.getElementsByClassName(\"article\").length - 1;\n",
      "var componentContainer = document.getElementsByClassName(\"article\")[articleSize].getElementsByTagName(\"div\");\n",
      "var componentContainer = document.getElementsByClassName(\"article\")[articleSize].getElementsByTagName(\"div\");\n",
      "var componentContainer = document.getElementsByClassName(\"article\")[articleSize].getElementsByTagName(\"div\");\n",
      "var componentContainer = document.getElementsByClassName(\"article\")[articleSize].getElementsByTagName(\"div\");\n",
      "var newElement = document.createElement('div');\n",
      "var newElement = document.createElement('div');\n",
      "var newElement = document.createElement('div');\n",
      "var newElement = document.createElement('div');\n",
      "googletag.cmd.push(function() { googletag.display('div-gpt-ad-1570777659388-0'); });\n",
      "googletag.cmd.push(function() { googletag.display('div-gpt-ad-1570777659388-0'); });\n",
      "googletag.cmd.push(function() { googletag.display('div-gpt-ad-1570777659388-0'); });\n",
      "googletag.cmd.push(function() { googletag.display('div-gpt-ad-1570777659388-0'); });\n",
      "googletag.cmd.push(function() { googletag.display('div-gpt-ad-1570777659388-0'); });\n",
      "googletag.cmd.push(function() { googletag.display('div-gpt-ad-1570777659388-0'); });\n",
      "googletag.cmd.push(function() { googletag.display('div-gpt-ad-1570777659388-0'); });\n",
      "googletag.cmd.push(function() { googletag.display('div-gpt-ad-1570777659388-0'); });\n",
      "googletag.cmd.push(function() { googletag.display('div-gpt-ad-1570777659388-0'); });\n",
      "googletag.cmd.push(function() { googletag.display('div-gpt-ad-1570777659388-0'); });\n",
      "googletag.cmd.push(function() { googletag.display('div-gpt-ad-1570777659388-0'); });\n",
      "googletag.cmd.push(function() { googletag.display('div-gpt-ad-1570777659388-0'); });\n",
      "googletag.cmd.push(function() { googletag.display('div-gpt-ad-1570777659388-0'); });\n",
      "googletag.cmd.push(function() { googletag.display('div-gpt-ad-1570777659388-0'); });\n",
      "$(\".removeentrySubs\").click(function() {\t$(\".entrySubs\").css(\"display\",\"none\");\t});\n",
      "$('*[id^=\"content-body\"] .also-view-text-cont p').click(function () {\n",
      "\"url\": \"https://www.thehindu.com/news/national/three-indian-companies-get-licence-to-manufacture-nasas-ventilators-for-covid-19-patients/article31708809.ece\",\n",
      "\"url\": \"https://www.thehindu.com/news/national/three-indian-companies-get-licence-to-manufacture-nasas-ventilators-for-covid-19-patients/article31708809.ece\",\n",
      "\"url\": \"https://www.thehindu.com/news/national/three-indian-companies-get-licence-to-manufacture-nasas-ventilators-for-covid-19-patients/article31708809.ece\",\n",
      "\n",
      "Keywords:\n",
      "class\n",
      "classes\n",
      "var\n",
      "data function\n",
      "content\n",
      "div\n",
      "article\n",
      "articles\n",
      "span\n",
      "text\n",
      "return\n",
      "http\n",
      "https\n",
      "width\n",
      "script\n",
      "style\n",
      "window\n",
      "windows\n",
      "document\n",
      "true\n",
      "itemprop\n",
      "title\n",
      "meta\n",
      "background\n"
     ]
    }
   ],
   "source": [
    "text = requests.get('https://www.thehindu.com/news/national/three-indian-companies-get-licence-to-manufacture-nasas-ventilators-for-covid-19-patients/article31708809.ece').text\n",
    "\n",
    "print('Summary:')\n",
    "print(summarize(text, ratio=0.01))\n",
    "\n",
    "print('\\nKeywords:')\n",
    "print(keywords(text, ratio=0.01))"
   ]
  },
  {
   "cell_type": "code",
   "execution_count": 20,
   "metadata": {},
   "outputs": [
    {
     "name": "stdout",
     "output_type": "stream",
     "text": [
      "Collecting sumy\n",
      "  Downloading sumy-0.8.1-py2.py3-none-any.whl (83 kB)\n",
      "Collecting breadability>=0.1.20\n",
      "  Downloading breadability-0.1.20.tar.gz (32 kB)\n",
      "Collecting pycountry>=18.2.23\n",
      "  Downloading pycountry-19.8.18.tar.gz (10.0 MB)\n",
      "Collecting docopt<0.7,>=0.6.1\n",
      "  Downloading docopt-0.6.2.tar.gz (25 kB)\n",
      "Requirement already satisfied: nltk>=3.0.2 in c:\\users\\arya\\anaconda3\\lib\\site-packages (from sumy) (3.4.5)\n",
      "Requirement already satisfied: requests>=2.7.0 in c:\\users\\arya\\anaconda3\\lib\\site-packages (from sumy) (2.23.0)\n",
      "Requirement already satisfied: chardet in c:\\users\\arya\\anaconda3\\lib\\site-packages (from breadability>=0.1.20->sumy) (3.0.4)\n",
      "Requirement already satisfied: lxml>=2.0 in c:\\users\\arya\\anaconda3\\lib\\site-packages (from breadability>=0.1.20->sumy) (4.5.0)\n",
      "Requirement already satisfied: six in c:\\users\\arya\\anaconda3\\lib\\site-packages (from nltk>=3.0.2->sumy) (1.14.0)\n",
      "Requirement already satisfied: idna<3,>=2.5 in c:\\users\\arya\\anaconda3\\lib\\site-packages (from requests>=2.7.0->sumy) (2.9)\n",
      "Requirement already satisfied: certifi>=2017.4.17 in c:\\users\\arya\\anaconda3\\lib\\site-packages (from requests>=2.7.0->sumy) (2020.4.5.1)\n",
      "Requirement already satisfied: urllib3!=1.25.0,!=1.25.1,<1.26,>=1.21.1 in c:\\users\\arya\\anaconda3\\lib\\site-packages (from requests>=2.7.0->sumy) (1.25.8)\n",
      "Building wheels for collected packages: breadability, pycountry, docopt\n",
      "  Building wheel for breadability (setup.py): started\n",
      "  Building wheel for breadability (setup.py): finished with status 'done'\n",
      "  Created wheel for breadability: filename=breadability-0.1.20-py2.py3-none-any.whl size=21690 sha256=7df6e12e9b3a01f355bcd7232cd01b6470ecc98a57e893412a59334863368da2\n",
      "  Stored in directory: c:\\users\\arya\\appdata\\local\\pip\\cache\\wheels\\d4\\bf\\51\\81d27ad638e1a6dca4f362ecc33d1e2c764b8ea7ec751b8fc1\n",
      "  Building wheel for pycountry (setup.py): started\n",
      "  Building wheel for pycountry (setup.py): finished with status 'done'\n",
      "  Created wheel for pycountry: filename=pycountry-19.8.18-py2.py3-none-any.whl size=10627366 sha256=6662f0003b1aa326fcadce1a527eac10a679c791a10e2e0a9673b12f2835d43b\n",
      "  Stored in directory: c:\\users\\arya\\appdata\\local\\pip\\cache\\wheels\\00\\77\\65\\5f318c3c30b046b450a385ecfc690125f8a270cdb0f3f483b4\n",
      "  Building wheel for docopt (setup.py): started\n",
      "  Building wheel for docopt (setup.py): finished with status 'done'\n",
      "  Created wheel for docopt: filename=docopt-0.6.2-py2.py3-none-any.whl size=13709 sha256=3b6202a2d658ded50f0c3143ff77a4e1b70f96faf0b22e06ed783979a5cbaf8d\n",
      "  Stored in directory: c:\\users\\arya\\appdata\\local\\pip\\cache\\wheels\\72\\b0\\3f\\1d95f96ff986c7dfffe46ce2be4062f38ebd04b506c77c81b9\n",
      "Successfully built breadability pycountry docopt\n",
      "Installing collected packages: docopt, breadability, pycountry, sumy\n",
      "Successfully installed breadability-0.1.20 docopt-0.6.2 pycountry-19.8.18 sumy-0.8.1\n"
     ]
    }
   ],
   "source": [
    "!python -m pip install sumy"
   ]
  },
  {
   "cell_type": "code",
   "execution_count": 21,
   "metadata": {},
   "outputs": [],
   "source": [
    "from __future__ import absolute_import\n",
    "from __future__ import division, print_function, unicode_literals\n",
    " \n",
    "from sumy.parsers.html import HtmlParser\n",
    "from sumy.parsers.plaintext import PlaintextParser\n",
    "from sumy.nlp.tokenizers import Tokenizer\n",
    "from sumy.summarizers.lsa import LsaSummarizer\n",
    "from sumy.nlp.stemmers import Stemmer\n",
    "from sumy.utils import get_stop_words\n",
    " \n",
    "from sumy.summarizers.luhn import LuhnSummarizer\n",
    "from sumy.summarizers.edmundson import EdmundsonSummarizer\n",
    "from sumy.summarizers.lex_rank import LexRankSummarizer"
   ]
  },
  {
   "cell_type": "code",
   "execution_count": 22,
   "metadata": {},
   "outputs": [],
   "source": [
    "\n",
    "LANGUAGE = \"english\"\n",
    "SENTENCES_COUNT = 10"
   ]
  },
  {
   "cell_type": "code",
   "execution_count": 23,
   "metadata": {},
   "outputs": [
    {
     "name": "stdout",
     "output_type": "stream",
     "text": [
      "--LsaSummarizer--\n",
      "The National Aeronautics and Space Administration (NASA) developed the ventilator specifically for coronavirus patients at its Jet Propulsion Laboratory (JLP) in Southern California.\n",
      "The JPL engineers designed the special ventilator— called VITAL — in little over a month and received ‘Emergency Use Authorization’ from the Food and Drug Administration on April 30.\n",
      "“The VITAL team is very excited to see their technology licenced,” said Leon Alkalai, manager of the JPL Office of Strategic Partnerships.\n",
      "A prototype of the JPL device was successfully tested by the Human Simulation Lab in the Department of Anesthesiology, Perioperative and Pain Medicine at Mount Sinai on April 23.\n",
      "A modified design, which uses compressed air and can be deployed by a greater range of hospitals, was recently tested at the UCLA Simulation Center in Los Angeles.\n",
      "A high-fidelity lung simulator tested almost 20 different ventilator settings, representing a number of scenarios that could be seen in critically ill patients in an intensive care unit, it said.\n",
      "“VITAL performed well in simulation testing with both precise and reproducible results,” said Dr Tisha Wang, clinical chief of the UCLA Division of Pulmonary and Critical Care Medicine.\n",
      "The UCLA team commends JPL for actively contributing to the COVID-19 response and successfully addressing one of the key medical needs in the sickest group of patients,” a media statement said.\n",
      "We have been keeping you up-to-date with information on the developments in India and the world that have a bearing on our health and wellbeing, our lives and livelihoods, during these difficult times.\n",
      "As we fight disinformation and misinformation, and keep apace with the happenings, we need to commit greater resources to news gathering operations.\n"
     ]
    }
   ],
   "source": [
    "url=\"https://www.thehindu.com/news/national/three-indian-companies-get-licence-to-manufacture-nasas-ventilators-for-covid-19-patients/article31708809.ece\"\n",
    "parser = HtmlParser.from_url(url, Tokenizer(LANGUAGE))\n",
    "print (\"--LsaSummarizer--\")    \n",
    "summarizer = LsaSummarizer()\n",
    "summarizer = LsaSummarizer(Stemmer(LANGUAGE))\n",
    "summarizer.stop_words = get_stop_words(LANGUAGE)\n",
    "for sentence in summarizer(parser.document, SENTENCES_COUNT):\n",
    "    print(sentence)\n"
   ]
  },
  {
   "cell_type": "code",
   "execution_count": 24,
   "metadata": {},
   "outputs": [
    {
     "name": "stdout",
     "output_type": "stream",
     "text": [
      "--LuhnSummarizer--\n",
      "Three Indian companies have got licences from NASA to manufacture its indigenously developed ventilators for critical COVID-19 patients.\n",
      "The three Indian companies are Alpha Design Technologies Pvt Ltd, Bharat Forge Ltd and Medha Servo Drives Pvt Ltd, the space organisation said in a statement on Friday.\n",
      "The VITAL (Ventilator Intervention Technology Accessible Locally) equipment uses one-seventh the parts of a traditional ventilator, relying on parts already available in supply chains, the space organisation said.\n",
      "Its flexible design means it also can be modified for use in field hospitals, the NASA statement read.\n",
      "NASA said VITAL was developed with input from doctors and medical device manufacturers.\n",
      "A modified design, which uses compressed air and can be deployed by a greater range of hospitals, was recently tested at the UCLA Simulation Center in Los Angeles.\n",
      "The UCLA team commends JPL for actively contributing to the COVID-19 response and successfully addressing one of the key medical needs in the sickest group of patients,” a media statement said.\n",
      "Briefing We brief you on the latest and most important developments, three times a day.\n",
      "We have been keeping you up-to-date with information on the developments in India and the world that have a bearing on our health and wellbeing, our lives and livelihoods, during these difficult times.\n",
      "To enable wide dissemination of news that is in public interest, we have increased the number of articles that can be read free, and extended free trial periods.\n"
     ]
    }
   ],
   "source": [
    "print (\"--LuhnSummarizer--\")     \n",
    "summarizer = LuhnSummarizer() \n",
    "summarizer = LuhnSummarizer(Stemmer(LANGUAGE))\n",
    "summarizer.stop_words = (\"I\", \"am\", \"the\", \"you\", \"are\", \"me\", \"is\", \"than\", \"that\", \"this\")\n",
    "for sentence in summarizer(parser.document, SENTENCES_COUNT):\n",
    "    print(sentence)"
   ]
  },
  {
   "cell_type": "code",
   "execution_count": 25,
   "metadata": {},
   "outputs": [
    {
     "name": "stdout",
     "output_type": "stream",
     "text": [
      "--EdmundsonSummarizer--\n",
      "Three Indian companies have got licences from NASA to manufacture its indigenously developed ventilators for critical COVID-19 patients.\n",
      "The three Indian companies are Alpha Design Technologies Pvt Ltd, Bharat Forge Ltd and Medha Servo Drives Pvt Ltd, the space organisation said in a statement on Friday.\n",
      "Apart from the Indian firms, 18 other companies, including eight American and three Brazilian, have been selected to manufacture the critical breathing devices.\n",
      "The National Aeronautics and Space Administration (NASA) developed the ventilator specifically for coronavirus patients at its Jet Propulsion Laboratory (JLP) in Southern California.\n",
      "The JPL engineers designed the special ventilator— called VITAL — in little over a month and received ‘Emergency Use Authorization’ from the Food and Drug Administration on April 30.\n",
      "The VITAL (Ventilator Intervention Technology Accessible Locally) equipment uses one-seventh the parts of a traditional ventilator, relying on parts already available in supply chains, the space organisation said.\n",
      "This high-pressure ventilator offers a simple, affordable option for treating critical patients while freeing up traditional ventilators for those with the most severe COVID-19 symptoms.\n",
      "Its flexible design means it also can be modified for use in field hospitals, the NASA statement read.\n",
      "“Our hope is to have this technology reach across the world and provide an additional source of solutions to deal with the on-going COVID-19 crisis,” he said.\n",
      "The UCLA team commends JPL for actively contributing to the COVID-19 response and successfully addressing one of the key medical needs in the sickest group of patients,” a media statement said.\n"
     ]
    }
   ],
   "source": [
    "print (\"--EdmundsonSummarizer--\")     \n",
    "summarizer = EdmundsonSummarizer() \n",
    "words1 = (\"economy\", \"fight\", \"trade\", \"china\")\n",
    "summarizer.bonus_words = words1\n",
    "     \n",
    "words2 = (\"another\", \"and\", \"some\", \"next\")\n",
    "summarizer.stigma_words = words2\n",
    "    \n",
    "words3 = (\"another\", \"and\", \"some\", \"next\")\n",
    "summarizer.null_words = words3\n",
    "for sentence in summarizer(parser.document, SENTENCES_COUNT):\n",
    "    print(sentence)"
   ]
  },
  {
   "cell_type": "code",
   "execution_count": 26,
   "metadata": {},
   "outputs": [
    {
     "name": "stdout",
     "output_type": "stream",
     "text": [
      "--LexRankSummarizer--\n",
      "Three Indian companies have got licences from NASA to manufacture its indigenously developed ventilators for critical COVID-19 patients.\n",
      "This high-pressure ventilator offers a simple, affordable option for treating critical patients while freeing up traditional ventilators for those with the most severe COVID-19 symptoms.\n",
      "Its flexible design means it also can be modified for use in field hospitals, the NASA statement read.\n",
      "A prototype of the JPL device was successfully tested by the Human Simulation Lab in the Department of Anesthesiology, Perioperative and Pain Medicine at Mount Sinai on April 23.\n",
      "A high-fidelity lung simulator tested almost 20 different ventilator settings, representing a number of scenarios that could be seen in critically ill patients in an intensive care unit, it said.\n",
      "You have reached your limit for free articles this month.\n",
      "Dashboard A one-stop-shop for seeing the latest updates, and managing your preferences.\n",
      "*Our Digital Subscription plans do not currently include the e-paper ,crossword, iPhone, iPad mobile applications and print.\n",
      "We have been keeping you up-to-date with information on the developments in India and the world that have a bearing on our health and wellbeing, our lives and livelihoods, during these difficult times.\n",
      "To enable wide dissemination of news that is in public interest, we have increased the number of articles that can be read free, and extended free trial periods.\n"
     ]
    }
   ],
   "source": [
    "print (\"--LexRankSummarizer--\")   \n",
    "summarizer = LexRankSummarizer()\n",
    "summarizer = LexRankSummarizer(Stemmer(LANGUAGE))\n",
    "summarizer.stop_words = (\"I\", \"am\", \"the\", \"you\", \"are\", \"me\", \"is\", \"than\", \"that\", \"this\")\n",
    "for sentence in summarizer(parser.document, SENTENCES_COUNT):\n",
    "    print(sentence)"
   ]
  },
  {
   "cell_type": "code",
   "execution_count": null,
   "metadata": {},
   "outputs": [],
   "source": []
  }
 ],
 "metadata": {
  "kernelspec": {
   "display_name": "Python 3",
   "language": "python",
   "name": "python3"
  },
  "language_info": {
   "codemirror_mode": {
    "name": "ipython",
    "version": 3
   },
   "file_extension": ".py",
   "mimetype": "text/x-python",
   "name": "python",
   "nbconvert_exporter": "python",
   "pygments_lexer": "ipython3",
   "version": "3.7.1"
  }
 },
 "nbformat": 4,
 "nbformat_minor": 4
}
